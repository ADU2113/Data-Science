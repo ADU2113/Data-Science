{
 "cells": [
  {
   "cell_type": "code",
   "execution_count": 121,
   "id": "6e9700a3-8303-4b28-a52c-7e5376b396ad",
   "metadata": {},
   "outputs": [
    {
     "name": "stdout",
     "output_type": "stream",
     "text": [
      "13\n",
      "7\n",
      "30\n",
      "3.3333333333333335\n",
      "1\n",
      "1000\n",
      "3\n"
     ]
    }
   ],
   "source": [
    "# Arithimetic operators + - / * % //\n",
    "x = 10\n",
    "y = 3\n",
    "\n",
    "print(x + y)  # Output: 13\n",
    "print(x - y)  # Output: 7\n",
    "print(x * y)  # Output: 30\n",
    "print(x / y)  # Output: 3.333...\n",
    "print(x % y)  # Output: 1\n",
    "print(x ** y) # Output: 1000\n",
    "print(x // y) # Output: 3\n",
    "# division operator / always returns a float, even if both operands are integers. \n",
    "# The floor division operator // returns the integer part of the division. \n",
    "#     - rounding down to the nearest whole number\n",
    "#     - discards the decimal part\n",
    "# The modulus operator % returns the remainder of the division."
   ]
  },
  {
   "cell_type": "code",
   "execution_count": 6,
   "id": "31c81363",
   "metadata": {},
   "outputs": [
    {
     "data": {
      "text/plain": [
       "1"
      ]
     },
     "execution_count": 6,
     "metadata": {},
     "output_type": "execute_result"
    }
   ],
   "source": [
    "10 % 3 #gives the remainder"
   ]
  },
  {
   "cell_type": "code",
   "execution_count": 9,
   "id": "380c6b4b",
   "metadata": {},
   "outputs": [
    {
     "data": {
      "text/plain": [
       "8"
      ]
     },
     "execution_count": 9,
     "metadata": {},
     "output_type": "execute_result"
    }
   ],
   "source": [
    "10 + 2\n",
    "10 - 2  #suggests it only gives the output of the last line"
   ]
  },
  {
   "cell_type": "code",
   "execution_count": 10,
   "id": "c950e31e-a51e-4df9-b1b0-9f6612fb2b21",
   "metadata": {},
   "outputs": [
    {
     "data": {
      "text/plain": [
       "4"
      ]
     },
     "execution_count": 10,
     "metadata": {},
     "output_type": "execute_result"
    }
   ],
   "source": [
    "# power or raised to --> **\n",
    "2 ** 2"
   ]
  },
  {
   "cell_type": "code",
   "execution_count": 11,
   "id": "16704b89-2d77-465f-91a7-00161a7f7be3",
   "metadata": {},
   "outputs": [
    {
     "name": "stdout",
     "output_type": "stream",
     "text": [
      "8\n",
      "9\n"
     ]
    }
   ],
   "source": [
    "print(2**3)\n",
    "print(3 ** 2) #using print to achieve all the outputs"
   ]
  },
  {
   "cell_type": "code",
   "execution_count": 12,
   "id": "bf7161e9-be4a-438a-a0bf-558890b2a724",
   "metadata": {},
   "outputs": [],
   "source": [
    "# = assigning\n",
    "# == comparison "
   ]
  },
  {
   "cell_type": "code",
   "execution_count": 13,
   "id": "11d279b4-600f-40d6-99aa-254b5872a94a",
   "metadata": {},
   "outputs": [],
   "source": [
    "#other comparison operators --> >,  <,  >=,  <=, ==, =!\n",
    "a = 3"
   ]
  },
  {
   "cell_type": "code",
   "execution_count": 14,
   "id": "e9e57434-0968-40cd-a41c-4208ebe26583",
   "metadata": {},
   "outputs": [
    {
     "data": {
      "text/plain": [
       "False"
      ]
     },
     "execution_count": 14,
     "metadata": {},
     "output_type": "execute_result"
    }
   ],
   "source": [
    "a >3 "
   ]
  },
  {
   "cell_type": "code",
   "execution_count": 15,
   "id": "96bddbbe-0e33-4118-8be5-d3d2e86c285c",
   "metadata": {},
   "outputs": [
    {
     "data": {
      "text/plain": [
       "False"
      ]
     },
     "execution_count": 15,
     "metadata": {},
     "output_type": "execute_result"
    }
   ],
   "source": [
    "a<3"
   ]
  },
  {
   "cell_type": "code",
   "execution_count": 16,
   "id": "db3286fa-8043-4ba6-9e58-b75fcb7e7e08",
   "metadata": {},
   "outputs": [
    {
     "data": {
      "text/plain": [
       "True"
      ]
     },
     "execution_count": 16,
     "metadata": {},
     "output_type": "execute_result"
    }
   ],
   "source": [
    "a==3"
   ]
  },
  {
   "cell_type": "code",
   "execution_count": 17,
   "id": "abe02b49-9214-4a75-b59a-8a2fa1fd1770",
   "metadata": {},
   "outputs": [],
   "source": [
    "# above output shows python communicates in true or false form\n",
    "# python is case sensitive\n",
    "# python also is indentation sensitive"
   ]
  },
  {
   "cell_type": "code",
   "execution_count": 18,
   "id": "9d6e6c6b-d48c-40b8-9125-6a23d8349117",
   "metadata": {},
   "outputs": [
    {
     "data": {
      "text/plain": [
       "int"
      ]
     },
     "execution_count": 18,
     "metadata": {},
     "output_type": "execute_result"
    }
   ],
   "source": [
    "# type \n",
    "b = 34 \n",
    "type(b)"
   ]
  },
  {
   "cell_type": "code",
   "execution_count": 20,
   "id": "382467fd-7e8f-4a20-a9a0-f3f3dc2e249d",
   "metadata": {},
   "outputs": [
    {
     "data": {
      "text/plain": [
       "str"
      ]
     },
     "execution_count": 20,
     "metadata": {},
     "output_type": "execute_result"
    }
   ],
   "source": [
    "#we do not define data type in python its based on type of data we assigned\n",
    "B = \"abersfsds\"\n",
    "type(B)"
   ]
  },
  {
   "cell_type": "raw",
   "id": "9d1786ed-48d4-4d07-b417-de8821290d6f",
   "metadata": {},
   "source": [
    "Python functions can be categorized into three main types:\n",
    "- Built-in functions:\n",
    "    Examples: print(), len(), sum(), min(), max(), type(), etc.\n",
    "    There are around 68 built-in functions in Python\n",
    "- User-defined functions:\n",
    "    These functions are created by the programmer to perform specific tasks. \n",
    "    They are defined using the def keyword followed by the function name, parameters,\n",
    "    and the function body. \n",
    "- Anonymous functions (Lambda functions):\n",
    "    These are small, single-expression functions that do not require a name.\n",
    "    They are defined using the lambda keyword. \n",
    "    Lambda functions can take any number of arguments but can only have one expression.\n",
    "Additionally, some functions can be further classified based on their behavior:\n",
    "- Recursive functions: Functions that call themselves within their definition.\n",
    "- Higher-order functions: Functions that take other functions as arguments or return functions as output.\n",
    "- Generator functions: Functions that use the yield keyword to return a sequence of values one at a time."
   ]
  },
  {
   "cell_type": "code",
   "execution_count": 21,
   "id": "250a67bf-d656-4cc6-95a8-359c5d8283e3",
   "metadata": {},
   "outputs": [
    {
     "name": "stdout",
     "output_type": "stream",
     "text": [
      "abc 22 800000\n"
     ]
    }
   ],
   "source": [
    "name = \"abc\"\n",
    "age = 22\n",
    "salary = 800000\n",
    "print(name , age, salary)"
   ]
  },
  {
   "cell_type": "code",
   "execution_count": 22,
   "id": "30c735df-53f4-4090-9586-e1521f22ea9e",
   "metadata": {},
   "outputs": [
    {
     "data": {
      "text/plain": [
       "3"
      ]
     },
     "execution_count": 22,
     "metadata": {},
     "output_type": "execute_result"
    }
   ],
   "source": [
    "# len() function\n",
    "len(name)"
   ]
  },
  {
   "cell_type": "code",
   "execution_count": 25,
   "id": "8fa98fb5-65cf-46ed-ab79-706cbac5e852",
   "metadata": {},
   "outputs": [
    {
     "data": {
      "text/plain": [
       "'a'"
      ]
     },
     "execution_count": 25,
     "metadata": {},
     "output_type": "execute_result"
    }
   ],
   "source": [
    "#fetching elements --> [] applied on string not on int\n",
    "name[0]"
   ]
  },
  {
   "cell_type": "code",
   "execution_count": 26,
   "id": "78e1559e-f3b9-4626-b20c-07a0243e2176",
   "metadata": {},
   "outputs": [],
   "source": [
    "var = \"abcdefghijklmnopqrstuvwxyz\""
   ]
  },
  {
   "cell_type": "code",
   "execution_count": 28,
   "id": "3871fbe3-6d6f-48fa-8eb6-c026c30cb3cf",
   "metadata": {},
   "outputs": [
    {
     "data": {
      "text/plain": [
       "'abcdefghijklmnopqrstuvwxy'"
      ]
     },
     "execution_count": 28,
     "metadata": {},
     "output_type": "execute_result"
    }
   ],
   "source": [
    "var[0:25] #it doesnt include last element "
   ]
  },
  {
   "cell_type": "code",
   "execution_count": 31,
   "id": "a512d571-21a8-4741-97ba-aa5264571e45",
   "metadata": {},
   "outputs": [
    {
     "data": {
      "text/plain": [
       "'z'"
      ]
     },
     "execution_count": 31,
     "metadata": {},
     "output_type": "execute_result"
    }
   ],
   "source": [
    "var[25] #last element --> indexing start from 0"
   ]
  },
  {
   "cell_type": "code",
   "execution_count": 33,
   "id": "05832522-feb0-4520-bd02-843252445dcd",
   "metadata": {},
   "outputs": [
    {
     "name": "stdout",
     "output_type": "stream",
     "text": [
      "abcdefghijklmnopqrstuvwxyz\n",
      "abcdefghijklmnopqrstuvwxyz\n"
     ]
    }
   ],
   "source": [
    "#var[26] #this wont  work\n",
    "#but \n",
    "print(var[0:26]) # this gonna work cuz the range is given using this\n",
    "print(var[: 200])"
   ]
  },
  {
   "cell_type": "code",
   "execution_count": 35,
   "id": "b253fd10-2204-4935-82c6-6182ef33b683",
   "metadata": {},
   "outputs": [
    {
     "data": {
      "text/plain": [
       "'zyxwvutsrqponmlkjihgfedcba'"
      ]
     },
     "execution_count": 35,
     "metadata": {},
     "output_type": "execute_result"
    }
   ],
   "source": [
    "## reversing of string --> important will be used in splitting the dataset\n",
    "var[::-1]"
   ]
  },
  {
   "cell_type": "code",
   "execution_count": 36,
   "id": "53953352-c05f-4266-aaef-9f6ce3b14e6a",
   "metadata": {},
   "outputs": [
    {
     "data": {
      "text/plain": [
       "'aei'"
      ]
     },
     "execution_count": 36,
     "metadata": {},
     "output_type": "execute_result"
    }
   ],
   "source": [
    "var[0:9:4] #what this means is fetching every 4 th element including 0 th counting till 9 th only "
   ]
  },
  {
   "cell_type": "markdown",
   "id": "d97339d7-f67a-407f-8428-a979a0790e31",
   "metadata": {},
   "source": [
    "#### Data Types\n",
    "- Tuple --> ()\n",
    "- List  --> []\n",
    "- Set   --> its a function set()\n",
    "- Dictionary --> {}"
   ]
  },
  {
   "cell_type": "markdown",
   "id": "3cca1f34-6fca-4995-b564-9c9e715b21dc",
   "metadata": {},
   "source": [
    "#### Tuple\n",
    "- Used to represent data in single dimension of mixed format\n",
    "- Tuple is immutable(cannot be changed later on)\n"
   ]
  },
  {
   "cell_type": "code",
   "execution_count": 43,
   "id": "36b7b329-64f0-4a11-8359-34567c4b1da1",
   "metadata": {},
   "outputs": [],
   "source": [
    "#tuple --> count function --> indexing can be applied\n",
    "t1 = (2 , 5 , 1, \"osmanabad\" , 10.5) #tuple"
   ]
  },
  {
   "cell_type": "code",
   "execution_count": 44,
   "id": "067ad9f9-87a5-4d24-8382-384b351e9904",
   "metadata": {},
   "outputs": [
    {
     "data": {
      "text/plain": [
       "tuple"
      ]
     },
     "execution_count": 44,
     "metadata": {},
     "output_type": "execute_result"
    }
   ],
   "source": [
    "type(t1)"
   ]
  },
  {
   "cell_type": "code",
   "execution_count": 47,
   "id": "e01f0ce8-7028-4346-bfdf-aa3c057429dc",
   "metadata": {},
   "outputs": [
    {
     "data": {
      "text/plain": [
       "'osmanabad'"
      ]
     },
     "execution_count": 47,
     "metadata": {},
     "output_type": "execute_result"
    }
   ],
   "source": [
    "t1[3]"
   ]
  },
  {
   "cell_type": "code",
   "execution_count": 51,
   "id": "b8dddb25-7518-4cf9-97a8-4adfd454cfcc",
   "metadata": {},
   "outputs": [
    {
     "data": {
      "text/plain": [
       "3"
      ]
     },
     "execution_count": 51,
     "metadata": {},
     "output_type": "execute_result"
    }
   ],
   "source": [
    "t2 = (1,2,1,2,1)\n",
    "t2.count(1) #it only counts one thing at a time "
   ]
  },
  {
   "cell_type": "code",
   "execution_count": 52,
   "id": "d1371f95-5be6-40dd-b581-35d8be193e13",
   "metadata": {},
   "outputs": [
    {
     "data": {
      "text/plain": [
       "2"
      ]
     },
     "execution_count": 52,
     "metadata": {},
     "output_type": "execute_result"
    }
   ],
   "source": [
    "t3 = (\"ab\", \"ab\")\n",
    "t3.count(\"ab\")"
   ]
  },
  {
   "cell_type": "code",
   "execution_count": 54,
   "id": "5153eab6-1b66-4f92-94f6-15207de2eb99",
   "metadata": {},
   "outputs": [
    {
     "data": {
      "text/plain": [
       "0"
      ]
     },
     "execution_count": 54,
     "metadata": {},
     "output_type": "execute_result"
    }
   ],
   "source": [
    "#for counting data use count function\n",
    "#for getting index use index function\n",
    "t3.index(\"ab\")"
   ]
  },
  {
   "cell_type": "code",
   "execution_count": 55,
   "id": "22ce2ea3-703e-43e0-aadb-11db5fb71f9a",
   "metadata": {},
   "outputs": [
    {
     "data": {
      "text/plain": [
       "2"
      ]
     },
     "execution_count": 55,
     "metadata": {},
     "output_type": "execute_result"
    }
   ],
   "source": [
    "t4 = (\"mon\", \"tue\", \"wed\")\n",
    "t4.index('wed')"
   ]
  },
  {
   "cell_type": "code",
   "execution_count": 56,
   "id": "99d7ec6b-3f60-4a56-b4b0-12d5679850e7",
   "metadata": {},
   "outputs": [],
   "source": [
    "#how to change tue to tuesday --> well tuple is immutable but list isnt\n",
    "#so converting it to list then changing it will be possible"
   ]
  },
  {
   "cell_type": "code",
   "execution_count": 57,
   "id": "4eb06ee8-6069-4eaa-9680-eb6918a693e9",
   "metadata": {},
   "outputs": [],
   "source": [
    "l4 = list(t4)\n",
    "l4[1] = \"Tuesday\""
   ]
  },
  {
   "cell_type": "code",
   "execution_count": 58,
   "id": "d0c9a8ae-1137-4970-8db0-f4a05d67840e",
   "metadata": {},
   "outputs": [
    {
     "data": {
      "text/plain": [
       "['mon', 'Tuesday', 'wed']"
      ]
     },
     "execution_count": 58,
     "metadata": {},
     "output_type": "execute_result"
    }
   ],
   "source": [
    "l4"
   ]
  },
  {
   "cell_type": "markdown",
   "id": "60c4f567-d5e6-4c1c-9c15-a121b40bf9b9",
   "metadata": {},
   "source": [
    "#### list\n",
    "- they also represent data of mixed format in single dimension\n",
    "- list are mutable"
   ]
  },
  {
   "cell_type": "code",
   "execution_count": 59,
   "id": "15e5631c-b158-47a5-aceb-8aa988baa05c",
   "metadata": {},
   "outputs": [
    {
     "data": {
      "text/plain": [
       "9"
      ]
     },
     "execution_count": 59,
     "metadata": {},
     "output_type": "execute_result"
    }
   ],
   "source": [
    "l1 = [1,2,3,4,5,6,7,8,9]\n",
    "len(l1)  #len function "
   ]
  },
  {
   "cell_type": "code",
   "execution_count": 60,
   "id": "e809ec1f-4764-4bcf-8f79-e6aa146db386",
   "metadata": {},
   "outputs": [
    {
     "data": {
      "text/plain": [
       "[1, 2, 3, 4, 5, 6, 7, 8, 9, 10]"
      ]
     },
     "execution_count": 60,
     "metadata": {},
     "output_type": "execute_result"
    }
   ],
   "source": [
    "l1.append(10) #append function --> used to add values at the end of the list\n",
    "l1"
   ]
  },
  {
   "cell_type": "code",
   "execution_count": 62,
   "id": "87242b89-ce9b-4d14-b190-ebc5ec2aa73c",
   "metadata": {},
   "outputs": [],
   "source": [
    "# l1.append(10) the more time u run it that many times times it will add the value at the end\n",
    "# function like count and index can be used for their respective purpose\n",
    "# tuple and list can have duplicate values"
   ]
  },
  {
   "cell_type": "code",
   "execution_count": 69,
   "id": "220763ca-9686-4e79-b961-46570e0a7b9c",
   "metadata": {},
   "outputs": [
    {
     "data": {
      "text/plain": [
       "[10, 9, 8, 7, 6, 5, 4, 3, 2, 1]"
      ]
     },
     "execution_count": 69,
     "metadata": {},
     "output_type": "execute_result"
    }
   ],
   "source": [
    "#l1[::-1] \n",
    "l1.sort(reverse=True)\n",
    "l1"
   ]
  },
  {
   "cell_type": "code",
   "execution_count": 70,
   "id": "4a9c16fd-d497-459a-99a2-3f804a231608",
   "metadata": {},
   "outputs": [
    {
     "data": {
      "text/plain": [
       "[1, 2, 3, 4, 5, 6, 7, 8, 9, 10]"
      ]
     },
     "execution_count": 70,
     "metadata": {},
     "output_type": "execute_result"
    }
   ],
   "source": [
    "l1.sort()\n",
    "l1"
   ]
  },
  {
   "cell_type": "code",
   "execution_count": 71,
   "id": "4016b066-ab46-43f4-a358-8c7429ff29c4",
   "metadata": {},
   "outputs": [
    {
     "data": {
      "text/plain": [
       "10"
      ]
     },
     "execution_count": 71,
     "metadata": {},
     "output_type": "execute_result"
    }
   ],
   "source": [
    "l1.pop()"
   ]
  },
  {
   "cell_type": "code",
   "execution_count": 72,
   "id": "b8c0bfc9-b91f-4f44-a472-ede439486478",
   "metadata": {},
   "outputs": [
    {
     "data": {
      "text/plain": [
       "[1, 2, 3, 4, 5, 6, 7, 8, 9]"
      ]
     },
     "execution_count": 72,
     "metadata": {},
     "output_type": "execute_result"
    }
   ],
   "source": [
    "l1"
   ]
  },
  {
   "cell_type": "code",
   "execution_count": 73,
   "id": "220052c2-e87d-42c4-9457-e61bf091ac4f",
   "metadata": {},
   "outputs": [
    {
     "data": {
      "text/plain": [
       "3"
      ]
     },
     "execution_count": 73,
     "metadata": {},
     "output_type": "execute_result"
    }
   ],
   "source": [
    "l1.pop(2)"
   ]
  },
  {
   "cell_type": "code",
   "execution_count": 74,
   "id": "1ae2e30c-e0ad-48bd-a482-99c42ce58774",
   "metadata": {},
   "outputs": [
    {
     "data": {
      "text/plain": [
       "[1, 2, 4, 5, 6, 7, 8, 9]"
      ]
     },
     "execution_count": 74,
     "metadata": {},
     "output_type": "execute_result"
    }
   ],
   "source": [
    "l1"
   ]
  },
  {
   "cell_type": "code",
   "execution_count": 77,
   "id": "5b978a77-a921-4461-a55d-d6bbfa57d812",
   "metadata": {},
   "outputs": [
    {
     "data": {
      "text/plain": [
       "[4, 5, 6, 7, 8, 9]"
      ]
     },
     "execution_count": 77,
     "metadata": {},
     "output_type": "execute_result"
    }
   ],
   "source": [
    "#l1.remove(1)\n",
    "l1.remove(2)\n",
    "l1"
   ]
  },
  {
   "cell_type": "code",
   "execution_count": 79,
   "id": "93bfa6d9-4974-42c5-9d2b-798e5d028444",
   "metadata": {},
   "outputs": [],
   "source": [
    "# count()\n",
    "# append()\n",
    "# index()\n",
    "# sort()\n",
    "# pop()\n",
    "# len()\n",
    "#clear()\n",
    "#insert()"
   ]
  },
  {
   "cell_type": "code",
   "execution_count": 80,
   "id": "1abd37c9-3243-4baf-af5e-d37332db278a",
   "metadata": {},
   "outputs": [],
   "source": [
    "l1.clear()"
   ]
  },
  {
   "cell_type": "code",
   "execution_count": 81,
   "id": "c2db4e6e-755d-4bf2-ab57-46adbcfc5f1d",
   "metadata": {},
   "outputs": [
    {
     "data": {
      "text/plain": [
       "[]"
      ]
     },
     "execution_count": 81,
     "metadata": {},
     "output_type": "execute_result"
    }
   ],
   "source": [
    "l1"
   ]
  },
  {
   "cell_type": "code",
   "execution_count": 82,
   "id": "374810db-d7fd-4f52-b54a-fbeddc2ecb74",
   "metadata": {},
   "outputs": [],
   "source": [
    "l1.insert(0,1)"
   ]
  },
  {
   "cell_type": "code",
   "execution_count": 83,
   "id": "e0616e45-7beb-4ac1-9532-d7855c32c1f5",
   "metadata": {},
   "outputs": [
    {
     "data": {
      "text/plain": [
       "[1]"
      ]
     },
     "execution_count": 83,
     "metadata": {},
     "output_type": "execute_result"
    }
   ],
   "source": [
    "l1"
   ]
  },
  {
   "cell_type": "code",
   "execution_count": 84,
   "id": "797605ef-baf7-49bd-b33d-9f695548bedf",
   "metadata": {},
   "outputs": [],
   "source": [
    "l1.insert(1,5)\n",
    "l1.insert(2,6) #give the index and then the value u want to insert"
   ]
  },
  {
   "cell_type": "code",
   "execution_count": 85,
   "id": "409b99f7-299e-4048-a858-7bb3ad2d54b0",
   "metadata": {},
   "outputs": [
    {
     "data": {
      "text/plain": [
       "[1, 5, 6]"
      ]
     },
     "execution_count": 85,
     "metadata": {},
     "output_type": "execute_result"
    }
   ],
   "source": [
    "l1"
   ]
  },
  {
   "cell_type": "raw",
   "id": "c306480a-929d-4c4b-a087-6a38f53ce1bc",
   "metadata": {},
   "source": [
    "The append() and extend() methods in Python are both used to add elements to the end of a list,\n",
    "but they differ in how they handle the elements being added.\n",
    "append(element) adds a single element to the end of the list. \n",
    "The element can be of any data type, including another list. \n",
    "extend(iterable) adds all the elements from an iterable \n",
    "(e.g., another list, tuple, or string) to the end of the list. "
   ]
  },
  {
   "cell_type": "code",
   "execution_count": 86,
   "id": "37a52f64-974d-4ef0-a73c-63ef5aa7e84c",
   "metadata": {},
   "outputs": [],
   "source": [
    "l2 = [2,3,5,6,7,8]\n",
    "l1.append(l2)"
   ]
  },
  {
   "cell_type": "code",
   "execution_count": 87,
   "id": "d5fcd188-901b-4eaf-a418-53ea3c4a66e7",
   "metadata": {},
   "outputs": [
    {
     "data": {
      "text/plain": [
       "[1, 5, 6, [2, 3, 5, 6, 7, 8]]"
      ]
     },
     "execution_count": 87,
     "metadata": {},
     "output_type": "execute_result"
    }
   ],
   "source": [
    "l1"
   ]
  },
  {
   "cell_type": "code",
   "execution_count": 88,
   "id": "86e3ce40-b3f5-4c3e-bb45-7b44b0b587db",
   "metadata": {},
   "outputs": [
    {
     "name": "stdout",
     "output_type": "stream",
     "text": [
      "[1, 2, 3, 4, 5]\n"
     ]
    }
   ],
   "source": [
    "list3 = [1, 2, 3]\n",
    "list4 = [4, 5]\n",
    "\n",
    "# extend list3 with the elements of list4\n",
    "list3.extend(list4)\n",
    "print(list3)"
   ]
  },
  {
   "cell_type": "code",
   "execution_count": 89,
   "id": "b2c844f0-cf23-43cb-86fe-99cabbbbc4ce",
   "metadata": {},
   "outputs": [
    {
     "name": "stdout",
     "output_type": "stream",
     "text": [
      "[1, 2, 3, [4, 5]]\n"
     ]
    }
   ],
   "source": [
    "list1 = [1, 2, 3]\n",
    "list2 = [4, 5]\n",
    "\n",
    "# append list2 as a single element to list1\n",
    "list1.append(list2)\n",
    "print(list1) "
   ]
  },
  {
   "cell_type": "markdown",
   "id": "7d335eeb-4646-4d61-a5d5-5199b67cd02a",
   "metadata": {},
   "source": [
    "#### Set\n",
    "- used to store data in unique and sorted way \n",
    "- it can have mixed data format\n",
    "- it is a function \n",
    "- it can never have any duplicates\n",
    "- it is used to store SORTED AND UNIQUE\n",
    "- data which can be of mixed type and indexing is not possible"
   ]
  },
  {
   "cell_type": "code",
   "execution_count": 91,
   "id": "65590ba5-e3ee-408c-8258-cb4e2087751d",
   "metadata": {},
   "outputs": [
    {
     "data": {
      "text/plain": [
       "set"
      ]
     },
     "execution_count": 91,
     "metadata": {},
     "output_type": "execute_result"
    }
   ],
   "source": [
    "s1 = set([1,2,3,4]) #square brackets are mandotory to store more than one item\n",
    "type(s1)            # if there is only one element [] this is not necessary"
   ]
  },
  {
   "cell_type": "code",
   "execution_count": 93,
   "id": "9783e122-06c2-4472-822b-4b6ac70af713",
   "metadata": {},
   "outputs": [],
   "source": [
    "# s1[0] #indexing is not possible for set"
   ]
  },
  {
   "cell_type": "markdown",
   "id": "6d80d3b2-6523-4048-884e-3b641442b9fd",
   "metadata": {},
   "source": [
    "set comes with all its complementary functions\n",
    "such as\n",
    "- intersection()\n",
    "- union()\n",
    "- difference()\n",
    "- symmetric_difference()"
   ]
  },
  {
   "cell_type": "code",
   "execution_count": 94,
   "id": "0da37f15-99c8-4d63-b97a-d5a2d057f7d4",
   "metadata": {},
   "outputs": [],
   "source": [
    "#consider u own two shops each with different products\n",
    "shop1 = ['tv', 'fridge', 'oven', 'wm', 'speakers', 'trimmer', 'oven','camera']\n",
    "shop2 = ['earphone', 'oven', 'wm', 'speakers', 'trimmer', 'camera', 'tv', 'ac', 'laptop', 'keyboard']"
   ]
  },
  {
   "cell_type": "code",
   "execution_count": 95,
   "id": "338b5450-7234-47b5-b44b-8424d1d50c13",
   "metadata": {},
   "outputs": [],
   "source": [
    "#To remove the duplicate products in each shop \n",
    "shop1 = set(shop1)\n",
    "shop2 = set(shop2)"
   ]
  },
  {
   "cell_type": "code",
   "execution_count": 96,
   "id": "ef8785b6-79b2-414e-bbf8-53a75ee765e5",
   "metadata": {},
   "outputs": [
    {
     "name": "stdout",
     "output_type": "stream",
     "text": [
      "{'wm', 'camera', 'trimmer', 'oven', 'fridge', 'tv', 'speakers'}\n",
      "{'wm', 'earphone', 'camera', 'laptop', 'trimmer', 'oven', 'ac', 'keyboard', 'tv', 'speakers'}\n"
     ]
    }
   ],
   "source": [
    "print(shop1)\n",
    "print(shop2) # Output: each product is considered only once \n",
    "# even they are sorted based on ascii values"
   ]
  },
  {
   "cell_type": "code",
   "execution_count": 97,
   "id": "9ec1d545-cf0c-470f-a681-0742371b4da6",
   "metadata": {},
   "outputs": [
    {
     "data": {
      "text/plain": [
       "{'camera', 'oven', 'speakers', 'trimmer', 'tv', 'wm'}"
      ]
     },
     "execution_count": 97,
     "metadata": {},
     "output_type": "execute_result"
    }
   ],
   "source": [
    "shop2.intersection(shop1) #common products of shops"
   ]
  },
  {
   "cell_type": "code",
   "execution_count": 98,
   "id": "e26132ac-914c-4aee-b35b-f66027e12d0c",
   "metadata": {},
   "outputs": [
    {
     "data": {
      "text/plain": [
       "{'ac', 'earphone', 'keyboard', 'laptop'}"
      ]
     },
     "execution_count": 98,
     "metadata": {},
     "output_type": "execute_result"
    }
   ],
   "source": [
    "shop2.difference(shop1) # products shop2 has that shop1 dont"
   ]
  },
  {
   "cell_type": "code",
   "execution_count": 99,
   "id": "4d0649e4-a148-4a50-9559-0db01c15ac9e",
   "metadata": {},
   "outputs": [
    {
     "data": {
      "text/plain": [
       "{'fridge'}"
      ]
     },
     "execution_count": 99,
     "metadata": {},
     "output_type": "execute_result"
    }
   ],
   "source": [
    "shop1.difference(shop2) # shop2 dont have the product fridge "
   ]
  },
  {
   "cell_type": "code",
   "execution_count": 100,
   "id": "1e66f6de-17ab-43d5-8482-73998835f706",
   "metadata": {},
   "outputs": [
    {
     "data": {
      "text/plain": [
       "{'ac',\n",
       " 'camera',\n",
       " 'earphone',\n",
       " 'fridge',\n",
       " 'keyboard',\n",
       " 'laptop',\n",
       " 'oven',\n",
       " 'speakers',\n",
       " 'trimmer',\n",
       " 'tv',\n",
       " 'wm'}"
      ]
     },
     "execution_count": 100,
     "metadata": {},
     "output_type": "execute_result"
    }
   ],
   "source": [
    "shop1.union(shop2) #set of common products without duplicates\n",
    "#hence shop2.union(shop1) outputs will be same "
   ]
  },
  {
   "cell_type": "code",
   "execution_count": 101,
   "id": "2ceb5085-f94e-488b-ba90-5a43570ecbc9",
   "metadata": {},
   "outputs": [
    {
     "data": {
      "text/plain": [
       "{'ac', 'earphone', 'fridge', 'keyboard', 'laptop'}"
      ]
     },
     "execution_count": 101,
     "metadata": {},
     "output_type": "execute_result"
    }
   ],
   "source": [
    "shop1.symmetric_difference(shop2) #products except the intersection(Common) products \n",
    "#symmetric difference = it keeps all the values except the common values"
   ]
  },
  {
   "cell_type": "markdown",
   "id": "556d0392-eef8-4129-b200-520f857d02c7",
   "metadata": {},
   "source": [
    "short cut: to remove the duplicates in tuple\n",
    "just convert it into set and again convert it in the list"
   ]
  },
  {
   "cell_type": "markdown",
   "id": "6e4dc40c-a7cf-488c-9490-98f8b68572f0",
   "metadata": {},
   "source": [
    "#### Dictionary\n",
    "- data is represented in key-value pair\n",
    "- this is used to create dataframe"
   ]
  },
  {
   "cell_type": "code",
   "execution_count": 104,
   "id": "3ad738b8-8393-4325-b65f-72550d17d989",
   "metadata": {},
   "outputs": [],
   "source": [
    "emp_details = {\n",
    "    \"name\" : \"abcd\",\n",
    "    \"age\" : 22,\n",
    "    \"salary\": 2000000\n",
    "}"
   ]
  },
  {
   "cell_type": "code",
   "execution_count": 105,
   "id": "3490ae99-f0eb-4696-bca2-468f48e50e98",
   "metadata": {},
   "outputs": [
    {
     "data": {
      "text/plain": [
       "dict"
      ]
     },
     "execution_count": 105,
     "metadata": {},
     "output_type": "execute_result"
    }
   ],
   "source": [
    "type(emp_details)"
   ]
  },
  {
   "cell_type": "code",
   "execution_count": 106,
   "id": "aaecb7b3-16e2-4511-a62b-a1d4a978e0c0",
   "metadata": {},
   "outputs": [
    {
     "data": {
      "text/plain": [
       "dict_keys(['name', 'age', 'salary'])"
      ]
     },
     "execution_count": 106,
     "metadata": {},
     "output_type": "execute_result"
    }
   ],
   "source": [
    "emp_details.keys()"
   ]
  },
  {
   "cell_type": "code",
   "execution_count": 108,
   "id": "5938962e-f7db-4d02-8155-392d67a80666",
   "metadata": {},
   "outputs": [
    {
     "data": {
      "text/plain": [
       "dict_values(['abcd', 22, 2000000])"
      ]
     },
     "execution_count": 108,
     "metadata": {},
     "output_type": "execute_result"
    }
   ],
   "source": [
    "emp_details.values()"
   ]
  },
  {
   "cell_type": "code",
   "execution_count": 112,
   "id": "756d11cc-771d-437c-88e6-c61fec3f9835",
   "metadata": {},
   "outputs": [
    {
     "data": {
      "text/html": [
       "<div>\n",
       "<style scoped>\n",
       "    .dataframe tbody tr th:only-of-type {\n",
       "        vertical-align: middle;\n",
       "    }\n",
       "\n",
       "    .dataframe tbody tr th {\n",
       "        vertical-align: top;\n",
       "    }\n",
       "\n",
       "    .dataframe thead th {\n",
       "        text-align: right;\n",
       "    }\n",
       "</style>\n",
       "<table border=\"1\" class=\"dataframe\">\n",
       "  <thead>\n",
       "    <tr style=\"text-align: right;\">\n",
       "      <th></th>\n",
       "      <th>name</th>\n",
       "      <th>age</th>\n",
       "      <th>salary</th>\n",
       "      <th>WE</th>\n",
       "    </tr>\n",
       "  </thead>\n",
       "  <tbody>\n",
       "    <tr>\n",
       "      <th>0</th>\n",
       "      <td>mohan</td>\n",
       "      <td>23</td>\n",
       "      <td>333334</td>\n",
       "      <td>2</td>\n",
       "    </tr>\n",
       "    <tr>\n",
       "      <th>1</th>\n",
       "      <td>rohan</td>\n",
       "      <td>32</td>\n",
       "      <td>223342</td>\n",
       "      <td>10</td>\n",
       "    </tr>\n",
       "    <tr>\n",
       "      <th>2</th>\n",
       "      <td>sohan</td>\n",
       "      <td>34</td>\n",
       "      <td>4566756</td>\n",
       "      <td>9</td>\n",
       "    </tr>\n",
       "    <tr>\n",
       "      <th>3</th>\n",
       "      <td>tony</td>\n",
       "      <td>39</td>\n",
       "      <td>2333</td>\n",
       "      <td>7</td>\n",
       "    </tr>\n",
       "    <tr>\n",
       "      <th>4</th>\n",
       "      <td>adii</td>\n",
       "      <td>29</td>\n",
       "      <td>1234455667</td>\n",
       "      <td>13</td>\n",
       "    </tr>\n",
       "  </tbody>\n",
       "</table>\n",
       "</div>"
      ],
      "text/plain": [
       "    name  age      salary  WE\n",
       "0  mohan   23      333334   2\n",
       "1  rohan   32      223342  10\n",
       "2  sohan   34     4566756   9\n",
       "3   tony   39        2333   7\n",
       "4   adii   29  1234455667  13"
      ]
     },
     "execution_count": 112,
     "metadata": {},
     "output_type": "execute_result"
    }
   ],
   "source": [
    "#dataframe\n",
    "import pandas as pd\n",
    "emplys_detail = { 'name' : ('mohan', 'rohan' , 'sohan', 'tony' , 'adii') , \n",
    "                'age' : (23, 32, 34, 39, 29), \n",
    "                'salary' : (333334, 223342, 4566756, 2333, 1234455667), \n",
    "                'WE' : (2, 10, 9, 7, 13)}\n",
    "df = pd.DataFrame(emplys_detail)\n",
    "df"
   ]
  },
  {
   "cell_type": "code",
   "execution_count": 114,
   "id": "86e94dce-321c-41e0-92d6-6a61b2cd60ac",
   "metadata": {},
   "outputs": [
    {
     "data": {
      "text/plain": [
       "2333"
      ]
     },
     "execution_count": 114,
     "metadata": {},
     "output_type": "execute_result"
    }
   ],
   "source": [
    "emplys_detail['salary'][3]"
   ]
  },
  {
   "cell_type": "code",
   "execution_count": 117,
   "id": "9a76ae59-805d-4487-a1da-8b410a0e60a1",
   "metadata": {},
   "outputs": [],
   "source": [
    "# #list and tuple both can be included in the dictionary\n",
    "emplys_detail_list = { 'name' : ['mohan', 'rohan' , 'sohan', 'tony' , 'adii'] , \n",
    "                'age' : [23, 32, 34, 39, 29], \n",
    "                'salary' : [333334, 223342, 4566756, 2333, 1234455667], \n",
    "                'WE' : [2, 10, 9, 7, 13]}\n",
    "\n",
    "# emplys_detail_tuple = { 'name' : ('mohan', 'rohan' , 'sohan', 'tony' , 'adii') , \n",
    "#                 'age' : (23, 32, 34, 39, 29), \n",
    "#                 'salary' : (333334, 223342, 4566756, 2333, 1234455667), \n",
    "#                 'WE' : (2, 10, 9, 7, 13)}"
   ]
  },
  {
   "cell_type": "code",
   "execution_count": 120,
   "id": "8f7b4d6b-625a-49dd-8da0-6be665b8a39a",
   "metadata": {},
   "outputs": [
    {
     "data": {
      "text/plain": [
       "{'name': ['mohan', 'rohan', 'sharu', 'tony', 'adii'],\n",
       " 'age': [23, 32, 34, 39, 29],\n",
       " 'salary': [333334, 223342, 4566756, 2333, 1234455667],\n",
       " 'WE': [2, 10, 9, 7, 13]}"
      ]
     },
     "execution_count": 120,
     "metadata": {},
     "output_type": "execute_result"
    }
   ],
   "source": [
    "emplys_detail_list['name'][2] = 'sharu'\n",
    "emplys_detail_list"
   ]
  },
  {
   "cell_type": "code",
   "execution_count": null,
   "id": "3b439ad1-5922-432a-9b04-123c2d4e461f",
   "metadata": {},
   "outputs": [],
   "source": []
  }
 ],
 "metadata": {
  "kernelspec": {
   "display_name": "Python 3 (ipykernel)",
   "language": "python",
   "name": "python3"
  },
  "language_info": {
   "codemirror_mode": {
    "name": "ipython",
    "version": 3
   },
   "file_extension": ".py",
   "mimetype": "text/x-python",
   "name": "python",
   "nbconvert_exporter": "python",
   "pygments_lexer": "ipython3",
   "version": "3.11.7"
  }
 },
 "nbformat": 4,
 "nbformat_minor": 5
}
